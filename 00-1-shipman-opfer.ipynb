{
 "metadata": {
  "language_info": {
   "codemirror_mode": {
    "name": "ipython",
    "version": 3
   },
   "file_extension": ".py",
   "mimetype": "text/x-python",
   "name": "python",
   "nbconvert_exporter": "python",
   "pygments_lexer": "ipython3",
   "version": "3.8.8"
  },
  "orig_nbformat": 2,
  "kernelspec": {
   "name": "python3",
   "display_name": "Python 3.8.8 64-bit ('base': conda)"
  },
  "metadata": {
   "interpreter": {
    "hash": "5fb307c9b1c70564d6b7c177b82e5d498d57356560790d338bc2b92ecde8e67e"
   }
  },
  "interpreter": {
   "hash": "d361e8bd3ab8be8f3ea65790adb41c2b64f49b1477d0d1af835155fecf213182"
  }
 },
 "nbformat": 4,
 "nbformat_minor": 2,
 "cells": [
  {
   "source": [
    "## Python Setup"
   ],
   "cell_type": "markdown",
   "metadata": {}
  },
  {
   "source": [
    "Import der benötigten Bibliotheken:"
   ],
   "cell_type": "markdown",
   "metadata": {}
  },
  {
   "cell_type": "code",
   "execution_count": null,
   "metadata": {},
   "outputs": [],
   "source": [
    "import pandas as pd\n",
    "import matplotlib.pyplot as plt\n",
    "import seaborn as sns"
   ]
  },
  {
   "source": [
    "* **Pandas**: Bearbeitung und Analyse von Daten ([Dokumentation](https://pandas.pydata.org/))\n",
    "\n",
    "* **Matplotlib**: Erstellung von Abbildungen ([Dokumentation](https://matplotlib.org/))\n",
    "\n",
    "* **Seaborn**: Vereinfachte Erstellung von statistischen Abbildungen - auf Basis von Matplotlib. ([Dokumentation](https://seaborn.pydata.org/))"
   ],
   "cell_type": "markdown",
   "metadata": {}
  },
  {
   "source": [
    "# Daten"
   ],
   "cell_type": "markdown",
   "metadata": {}
  },
  {
   "source": [
    "Daten (CSV-Datei) mit Hilfe von pandas aus einem GitHub-Repository importieren und mit der Bezeichnung `df` speichern."
   ],
   "cell_type": "markdown",
   "metadata": {}
  },
  {
   "cell_type": "code",
   "execution_count": null,
   "metadata": {},
   "outputs": [],
   "source": [
    "df = pd.read_csv('https://raw.githubusercontent.com/kirenz/daten/main/statistik/00-1-shipman-opfer.csv')"
   ]
  },
  {
   "source": [
    "Wir verschaffen uns zunächst einen Überblick über die Daten. "
   ],
   "cell_type": "markdown",
   "metadata": {}
  },
  {
   "cell_type": "code",
   "execution_count": null,
   "metadata": {},
   "outputs": [],
   "source": [
    "# Überblick\n",
    "df.info()"
   ]
  },
  {
   "cell_type": "code",
   "execution_count": null,
   "metadata": {},
   "outputs": [],
   "source": [
    "# Tabellenkopf (erste 5 Zeilen)\n",
    "df.head()"
   ]
  },
  {
   "cell_type": "code",
   "execution_count": null,
   "metadata": {},
   "outputs": [],
   "source": [
    "# Die letzten 3 Zeilen der Tabelle anzeigen lassen\n",
    "df.tail(3)"
   ]
  },
  {
   "source": [
    "Daten bei Bedarf anpassen"
   ],
   "cell_type": "markdown",
   "metadata": {}
  },
  {
   "cell_type": "code",
   "execution_count": null,
   "metadata": {},
   "outputs": [],
   "source": [
    "# Löschen von fractionalDeathYear\n",
    "df.drop(['fractionalDeathYear'], axis=1, inplace=True)"
   ]
  },
  {
   "cell_type": "code",
   "execution_count": null,
   "metadata": {},
   "outputs": [],
   "source": [
    "# Übersicht über Datenformate\n",
    "df.dtypes"
   ]
  },
  {
   "cell_type": "code",
   "execution_count": null,
   "metadata": {},
   "outputs": [],
   "source": [
    "# Anpassung der Variable gender\n",
    "df[\"gender\"] = df[\"gender\"].astype(\"category\")"
   ]
  },
  {
   "cell_type": "code",
   "execution_count": null,
   "metadata": {},
   "outputs": [],
   "source": [
    "# Prüfung, ob Anpassung erfolgreich war\n",
    "df.dtypes"
   ]
  },
  {
   "cell_type": "code",
   "execution_count": null,
   "metadata": {},
   "outputs": [],
   "source": [
    "# Änderung der Einträge in Variable gender (von 0 zu Weiblich und 1 zu Männlich)\n",
    "df = df.replace({'gender': {0:'Weiblich', 1:'Männlich'}})"
   ]
  },
  {
   "cell_type": "code",
   "execution_count": null,
   "metadata": {},
   "outputs": [],
   "source": [
    "# Prüfung, ob Änderung erfolgreich war\n",
    "df.gender.head()"
   ]
  },
  {
   "cell_type": "code",
   "execution_count": null,
   "metadata": {},
   "outputs": [],
   "source": [
    "# Umbenennung von Variablen\n",
    "df.rename(columns={ 'Age': 'Alter', \n",
    "                    'yearOfDeath': 'Todesjahr', \n",
    "                    'gender': 'Geschlecht'}, \n",
    "                    inplace=True)"
   ]
  },
  {
   "source": [
    "# Analyse"
   ],
   "cell_type": "markdown",
   "metadata": {}
  },
  {
   "cell_type": "code",
   "execution_count": null,
   "metadata": {},
   "outputs": [],
   "source": [
    "df.describe()"
   ]
  },
  {
   "source": [
    "## Streudiagramm"
   ],
   "cell_type": "markdown",
   "metadata": {}
  },
  {
   "cell_type": "code",
   "execution_count": null,
   "metadata": {},
   "outputs": [],
   "source": [
    "sns.scatterplot(data=df, x=\"Todesjahr\", y=\"Alter\");"
   ]
  },
  {
   "source": [
    "## Streudiagramm mit Geschlecht"
   ],
   "cell_type": "markdown",
   "metadata": {}
  },
  {
   "cell_type": "code",
   "execution_count": null,
   "metadata": {},
   "outputs": [],
   "source": [
    "sns.scatterplot(data=df, x=\"Todesjahr\", y=\"Alter\", hue=\"Geschlecht\");"
   ]
  },
  {
   "source": [
    "## Streudiagramm mit Dichtefunktion"
   ],
   "cell_type": "markdown",
   "metadata": {}
  },
  {
   "cell_type": "code",
   "execution_count": null,
   "metadata": {},
   "outputs": [],
   "source": [
    "sns.jointplot(data=df, x=\"Todesjahr\", y=\"Alter\", hue=\"Geschlecht\");"
   ]
  }
 ]
}